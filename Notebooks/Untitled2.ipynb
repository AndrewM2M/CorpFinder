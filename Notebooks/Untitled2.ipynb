{
 "cells": [
  {
   "cell_type": "code",
   "execution_count": 1,
   "metadata": {},
   "outputs": [],
   "source": [
    "import os\n",
    "from docx import Document"
   ]
  },
  {
   "cell_type": "code",
   "execution_count": 2,
   "metadata": {},
   "outputs": [],
   "source": [
    "myfile = r\"C:\\Users\\andrew.white\\Documents\\Lists\\WD Numeric\\A.docx\""
   ]
  },
  {
   "cell_type": "code",
   "execution_count": 3,
   "metadata": {},
   "outputs": [],
   "source": [
    " docx = Document(myfile)"
   ]
  },
  {
   "cell_type": "code",
   "execution_count": 4,
   "metadata": {},
   "outputs": [
    {
     "data": {
      "text/plain": [
       "<docx.document.Document at 0x238d0fa5598>"
      ]
     },
     "execution_count": 4,
     "metadata": {},
     "output_type": "execute_result"
    }
   ],
   "source": [
    "docx"
   ]
  },
  {
   "cell_type": "code",
   "execution_count": 58,
   "metadata": {},
   "outputs": [],
   "source": [
    "def is_para_bold(para):\n",
    "    \"\"\"\n",
    "    Check if entire paragrph is bold.\n",
    "\n",
    "    It counts the bolded runs and\n",
    "    compares that the to total number of runs.\n",
    "\n",
    "    Parameters\n",
    "    ----------\n",
    "    para : TYPE obj\n",
    "        DESCRIPTION.\n",
    "        a paragraph object from the docx module\n",
    "    Returns\n",
    "    -------\n",
    "    bold : TYPE bool\n",
    "        DESCRIPTION.\n",
    "    \"\"\"\n",
    "    bold, bcount = False, 0\n",
    "    r_len = len(para.runs)\n",
    "    for r in para.runs:\n",
    "        if r.bold:\n",
    "            bcount = bcount+1\n",
    "    if r_len == bcount:\n",
    "        bold = True\n",
    "    return bold"
   ]
  },
  {
   "cell_type": "code",
   "execution_count": 59,
   "metadata": {},
   "outputs": [],
   "source": [
    "pcount = 0\n",
    "for para in docx.paragraphs:\n",
    "    if is_para_bold(para):\n",
    "        pcount = pcount+1"
   ]
  },
  {
   "cell_type": "code",
   "execution_count": 60,
   "metadata": {},
   "outputs": [
    {
     "data": {
      "text/plain": [
       "62"
      ]
     },
     "execution_count": 60,
     "metadata": {},
     "output_type": "execute_result"
    }
   ],
   "source": [
    "pcount"
   ]
  },
  {
   "cell_type": "code",
   "execution_count": null,
   "metadata": {},
   "outputs": [],
   "source": []
  }
 ],
 "metadata": {
  "kernelspec": {
   "display_name": "Python 3",
   "language": "python",
   "name": "python3"
  },
  "language_info": {
   "codemirror_mode": {
    "name": "ipython",
    "version": 3
   },
   "file_extension": ".py",
   "mimetype": "text/x-python",
   "name": "python",
   "nbconvert_exporter": "python",
   "pygments_lexer": "ipython3",
   "version": "3.7.6"
  }
 },
 "nbformat": 4,
 "nbformat_minor": 4
}
