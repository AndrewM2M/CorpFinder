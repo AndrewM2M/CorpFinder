{
 "cells": [
  {
   "cell_type": "code",
   "execution_count": 3,
   "metadata": {},
   "outputs": [
    {
     "data": {
      "text/plain": [
       "'0.25.1'"
      ]
     },
     "execution_count": 3,
     "metadata": {},
     "output_type": "execute_result"
    }
   ],
   "source": [
    "import pandas\n",
    "pandas.__version__"
   ]
  },
  {
   "cell_type": "code",
   "execution_count": 7,
   "metadata": {},
   "outputs": [
    {
     "name": "stdout",
     "output_type": "stream",
     "text": [
      "0               333 22 AVE SW\n",
      "1               735 12 AVE SW\n",
      "2       928 ARBOUR LAKE RD NW\n",
      "3               315 50 AVE SW\n",
      "4               812 14 AVE SW\n",
      "                ...          \n",
      "1304         4658 DRUMMOND RD\n",
      "1305           75 COSBURN AVE\n",
      "1306            1 OLD MILL DR\n",
      "1307         822 ROSELAWN AVE\n",
      "1308         9168 SLOPES MEWS\n",
      "Name: Address, Length: 1309, dtype: object\n"
     ]
    }
   ],
   "source": [
    "colnames = ['CAMPAIGN','LastDisp', 'Last Action Date', 'Action Type','CPC ID', 'Id','Address', 'city', 'state', 'Post Code', 'Country', 'company', 'Branch','number1', 'number2', 'number3']\n",
    "data = pandas.read_csv(r\"C:\\Users\\andrew.white\\Documents\\Lists\\CPC\\Wong Numbers Jan 2020\\Wrong Number DB Jan 2020.csv\")\n",
    "print(data.Address)"
   ]
  },
  {
   "cell_type": "code",
   "execution_count": null,
   "metadata": {},
   "outputs": [],
   "source": []
  }
 ],
 "metadata": {
  "kernelspec": {
   "display_name": "Python 3",
   "language": "python",
   "name": "python3"
  },
  "language_info": {
   "codemirror_mode": {
    "name": "ipython",
    "version": 3
   },
   "file_extension": ".py",
   "mimetype": "text/x-python",
   "name": "python",
   "nbconvert_exporter": "python",
   "pygments_lexer": "ipython3",
   "version": "3.7.6"
  }
 },
 "nbformat": 4,
 "nbformat_minor": 4
}
