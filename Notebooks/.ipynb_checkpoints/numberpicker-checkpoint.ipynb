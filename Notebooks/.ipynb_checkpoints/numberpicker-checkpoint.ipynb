{
 "cells": [
  {
   "cell_type": "code",
   "execution_count": 274,
   "metadata": {},
   "outputs": [],
   "source": [
    "import phonenumbers\n",
    "from bs4 import BeautifulSoup\n",
    "import requests\n",
    "import re\n",
    "from collections import namedtuple\n",
    "from urllib.parse import urlparse"
   ]
  },
  {
   "cell_type": "code",
   "execution_count": null,
   "metadata": {},
   "outputs": [],
   "source": [
    "url = \"http://www.canyoncreekfood.com/\""
   ]
  },
  {
   "cell_type": "code",
   "execution_count": null,
   "metadata": {},
   "outputs": [],
   "source": [
    "content = requests.get(url)"
   ]
  },
  {
   "cell_type": "code",
   "execution_count": null,
   "metadata": {},
   "outputs": [],
   "source": [
    "soup = BeautifulSoup(content.text, 'lxml')\n",
    "body_text = soup.body.text\n",
    "body_text"
   ]
  },
  {
   "cell_type": "code",
   "execution_count": null,
   "metadata": {},
   "outputs": [],
   "source": [
    "numbers = phonenumbers.PhoneNumberMatcher(body_text, \"US\")\n",
    "numbers"
   ]
  },
  {
   "cell_type": "code",
   "execution_count": null,
   "metadata": {},
   "outputs": [],
   "source": [
    "numbers_to_keep = []"
   ]
  },
  {
   "cell_type": "code",
   "execution_count": 208,
   "metadata": {},
   "outputs": [
    {
     "data": {
      "text/plain": [
       "['1(888)217-1246', '1(780)463-5511']"
      ]
     },
     "execution_count": 208,
     "metadata": {},
     "output_type": "execute_result"
    }
   ],
   "source": [
    "for find in numbers:\n",
    "    if phonenumbers.is_possible_number(find.number) and phonenumbers.is_valid_number(find.number):\n",
    "        numbers_to_keep.append(find.raw_string)\n",
    "numbers_to_keep"
   ]
  },
  {
   "cell_type": "code",
   "execution_count": 209,
   "metadata": {},
   "outputs": [],
   "source": [
    "numbers_to_keep\n",
    "MATCH_ALL = r'.*'\n",
    "\n",
    "\n",
    "def like(string, flags=re.DOTALL):\n",
    "    \"\"\"\n",
    "    Return a compiled regular expression that matches the given\n",
    "    string with any prefix and postfix, e.g. if string = \"hello\",\n",
    "    the returned regex matches r\".*hello.*\"\n",
    "    \"\"\"\n",
    "    if isinstance(string, list):\n",
    "        string_ = \"|\".join(map(re.escape, string))\n",
    "    else:\n",
    "        string_ = re.escape(string)\n",
    "    if not isinstance(string_, str):\n",
    "        string_ = str(string_)\n",
    "    regex = MATCH_ALL + string_ + MATCH_ALL\n",
    "    return re.compile(regex, flags=flags)"
   ]
  },
  {
   "cell_type": "code",
   "execution_count": 221,
   "metadata": {},
   "outputs": [],
   "source": [
    "def b4_after(string, target):\n",
    "    sub_str = re.escape(target)\n",
    "    regex = re.compile(r\"(?P<before>\\S+\\s)?\\S*\"+sub_str+\"S*(?P<after>\\s\\S+)?\", flags = re.MULTILINE | re.IGNORECASE )\n",
    "    return re.finditer(regex, string)"
   ]
  },
  {
   "cell_type": "code",
   "execution_count": 233,
   "metadata": {},
   "outputs": [],
   "source": [
    "keeper = namedtuple('keeper',['number', \"before_afters\", 'html', 'tag_text'])"
   ]
  },
  {
   "cell_type": "code",
   "execution_count": 250,
   "metadata": {},
   "outputs": [],
   "source": [
    "elements = set()\n",
    "for good_phone in numbers_to_keep:\n",
    "        looking_for = like(good_phone)\n",
    "        for elem in soup(text=looking_for):\n",
    "            matches = b4_after(elem.parent.text, good_phone)\n",
    "            ba = tuple(match.group() for match in matches)\n",
    "            elements.add(keeper(good_phone, ba, str(elem.parent), elem.parent.text))"
   ]
  },
  {
   "cell_type": "code",
   "execution_count": 251,
   "metadata": {},
   "outputs": [
    {
     "data": {
      "text/plain": [
       "{keeper(number='1(780)463-5511', before_afters=('FAX 1(780)463-5511 EMAIL',), html='<p><strong>LOCATION</strong><br/> 8704 53rd Ave, Edmonton, AB T6E5G2<br/> <strong>PHONE</strong><br/> 1(888)217-1246<br/> <strong>FAX</strong><br/> 1(780)463-5511<br/> <strong>EMAIL</strong><br/> customerfeedback@canyoncreekfood.com</p>', tag_text='LOCATION 8704 53rd Ave, Edmonton, AB T6E5G2 PHONE 1(888)217-1246 FAX 1(780)463-5511 EMAIL customerfeedback@canyoncreekfood.com'),\n",
       " keeper(number='1(888)217-1246', before_afters=('PHONE 1(888)217-1246 FAX',), html='<p><strong>LOCATION</strong><br/> 8704 53rd Ave, Edmonton, AB T6E5G2<br/> <strong>PHONE</strong><br/> 1(888)217-1246<br/> <strong>FAX</strong><br/> 1(780)463-5511<br/> <strong>EMAIL</strong><br/> customerfeedback@canyoncreekfood.com</p>', tag_text='LOCATION 8704 53rd Ave, Edmonton, AB T6E5G2 PHONE 1(888)217-1246 FAX 1(780)463-5511 EMAIL customerfeedback@canyoncreekfood.com')}"
      ]
     },
     "execution_count": 251,
     "metadata": {},
     "output_type": "execute_result"
    }
   ],
   "source": [
    "elements"
   ]
  },
  {
   "cell_type": "code",
   "execution_count": 252,
   "metadata": {},
   "outputs": [
    {
     "data": {
      "text/plain": [
       "keeper(number=12341241, before_afters=['word', 'stuff'], html='<p>', tag_text='text')"
      ]
     },
     "execution_count": 252,
     "metadata": {},
     "output_type": "execute_result"
    }
   ],
   "source": [
    "keeper(12341241, [\"word\",\"stuff\"], \"<p>\", \"text\")"
   ]
  },
  {
   "cell_type": "code",
   "execution_count": 253,
   "metadata": {},
   "outputs": [],
   "source": [
    "import pandas as pd"
   ]
  },
  {
   "cell_type": "code",
   "execution_count": 254,
   "metadata": {},
   "outputs": [],
   "source": [
    "number_table = pd.DataFrame(elements)"
   ]
  },
  {
   "cell_type": "code",
   "execution_count": 256,
   "metadata": {},
   "outputs": [
    {
     "data": {
      "text/plain": [
       "0    LOCATION 8704 53rd Ave, Edmonton, AB T6E5G2 PH...\n",
       "1    LOCATION 8704 53rd Ave, Edmonton, AB T6E5G2 PH...\n",
       "Name: tag_text, dtype: object"
      ]
     },
     "execution_count": 256,
     "metadata": {},
     "output_type": "execute_result"
    }
   ],
   "source": [
    "number_table['tag_text']"
   ]
  },
  {
   "cell_type": "code",
   "execution_count": 257,
   "metadata": {},
   "outputs": [
    {
     "data": {
      "text/plain": [
       "[<a class=\"menu-item-link js-smooth-scroll\" href=\"#our-story\">OUR STORY</a>,\n",
       " <a class=\"menu-item-link js-smooth-scroll\" href=\"#food-services\">FOOD SERVICES</a>,\n",
       " <a class=\"menu-item-link js-smooth-scroll\" href=\"#our-products\">OUR PRODUCTS</a>,\n",
       " <a class=\"menu-item-link js-smooth-scroll\" href=\"#contact-us\">CONTACT US</a>,\n",
       " <a class=\"menu-item-link js-smooth-scroll\" href=\"https://www.facebook.com/canyoncreekfood\" target=\"_blank\"><i class=\"icon-2x icon-facebook\"></i><span class=\"fa-hidden\">Facebook</span></a>,\n",
       " <a class=\"menu-item-link js-smooth-scroll\" href=\"http://instagram.com/canyoncreekco/\" target=\"_blank\"><i class=\"icon-2x icon-instagram\"></i><span class=\"fa-hidden\">Instagram</span></a>,\n",
       " <a class=\"mk-search-trigger add-header-height mk-fullscreen-trigger\" href=\"#\"><i class=\"mk-svg-icon-wrapper\"><svg class=\"mk-svg-icon\" data-cacheid=\"icon-5e61241d3754b\" data-name=\"mk-icon-search\" style=\" height:16px; width: 14.857142857143px; \" viewbox=\"0 0 1664 1792\" xmlns=\"http://www.w3.org/2000/svg\"><path d=\"M1152 832q0-185-131.5-316.5t-316.5-131.5-316.5 131.5-131.5 316.5 131.5 316.5 316.5 131.5 316.5-131.5 131.5-316.5zm512 832q0 52-38 90t-90 38q-54 0-90-38l-343-342q-179 124-399 124-143 0-273.5-55.5t-225-150-150-225-55.5-273.5 55.5-273.5 150-225 225-150 273.5-55.5 273.5 55.5 225 150 150 225 55.5 273.5q0 220-124 399l343 343q37 37 37 90z\"></path></svg></i></a>,\n",
       " <a href=\"http://www.canyoncreekfood.com/\" title=\"Canyon Creek Food Company\"> <img alt=\"Favorite Foods Made Easy\" class=\"mk-desktop-logo dark-logo\" src=\"http://www.canyoncreekfood.com/wp-content/uploads/2017/09/lgoo.png\" title=\"Favorite Foods Made Easy\"/> <img alt=\"Favorite Foods Made Easy\" class=\"mk-desktop-logo light-logo\" src=\"http://www.canyoncreekfood.com/wp-content/uploads/2017/09/canyon-creek-food-logo-white.png\" title=\"Favorite Foods Made Easy\"/> </a>,\n",
       " <a class=\"menu-item-link js-smooth-scroll\" href=\"#our-story\">OUR STORY</a>,\n",
       " <a class=\"menu-item-link js-smooth-scroll\" href=\"#food-services\">FOOD SERVICES</a>,\n",
       " <a class=\"menu-item-link js-smooth-scroll\" href=\"#our-products\">OUR PRODUCTS</a>,\n",
       " <a class=\"menu-item-link js-smooth-scroll\" href=\"#contact-us\">CONTACT US</a>,\n",
       " <a class=\"menu-item-link js-smooth-scroll\" href=\"https://www.facebook.com/canyoncreekfood\" target=\"_blank\"><i class=\"icon-2x icon-facebook\"></i><span class=\"fa-hidden\">Facebook</span></a>,\n",
       " <a class=\"menu-item-link js-smooth-scroll\" href=\"http://instagram.com/canyoncreekco/\" target=\"_blank\"><i class=\"icon-2x icon-instagram\"></i><span class=\"fa-hidden\">Instagram</span></a>,\n",
       " <a class=\"mk-button mk-button--dimension-two mk-button--size-large mk-button--corner-rounded light-skin\" href=\"#our-story\" target=\"_self\"> <span class=\"text\">LEARN MORE</span> <i class=\"darker-background\"></i></a>,\n",
       " <a class=\"mk-go-top js-smooth-scroll js-bottom-corner-btn js-bottom-corner-btn--back\" href=\"#top-of-page\"> <svg class=\"mk-svg-icon\" data-cacheid=\"icon-5e61241d63319\" data-name=\"mk-icon-chevron-up\" style=\" height:16px; width: 16px; \" viewbox=\"0 0 1792 1792\" xmlns=\"http://www.w3.org/2000/svg\"><path d=\"M1683 1331l-166 165q-19 19-45 19t-45-19l-531-531-531 531q-19 19-45 19t-45-19l-166-165q-19-19-19-45.5t19-45.5l742-741q19-19 45-19t45 19l742 741q19 19 19 45.5t-19 45.5z\"></path></svg></a>,\n",
       " <a class=\"mk-fullscreen-close\" href=\"#\"><svg class=\"mk-svg-icon\" data-cacheid=\"icon-5e61241d6387e\" data-name=\"mk-moon-close-2\" viewbox=\"0 0 512 512\" xmlns=\"http://www.w3.org/2000/svg\"><path d=\"M390.628 345.372l-45.256 45.256-89.372-89.373-89.373 89.372-45.255-45.255 89.373-89.372-89.372-89.373 45.254-45.254 89.373 89.372 89.372-89.373 45.256 45.255-89.373 89.373 89.373 89.372z\"></path></svg></a>]"
      ]
     },
     "execution_count": 257,
     "metadata": {},
     "output_type": "execute_result"
    }
   ],
   "source": [
    "soup.findAll('a')"
   ]
  },
  {
   "cell_type": "code",
   "execution_count": 259,
   "metadata": {},
   "outputs": [],
   "source": [
    "from scrapy.spiders import CrawlSpider, Rule"
   ]
  },
  {
   "cell_type": "code",
   "execution_count": 289,
   "metadata": {},
   "outputs": [],
   "source": [
    "from scrapy.linkextractors import LinkExtractor\n",
    "from scrapy.crawler import CrawlerProcess"
   ]
  },
  {
   "cell_type": "code",
   "execution_count": 305,
   "metadata": {},
   "outputs": [],
   "source": [
    "class MySpider(CrawlSpider):\n",
    "    name = 'crawlspider'\n",
    "    start_url = [\"http://www.canyoncreekfood.com\"]\n",
    "    rules = (\n",
    "        Rule(LinkExtractor(), callback='parse_item', follow=True),\n",
    "    )\n",
    "    \n",
    "    #def __init__ (self, start_url):\n",
    "     #   start_url = start_url\n",
    "    \n",
    "    def parse_item(self, response):\n",
    "        item = {}\n",
    "        item['url'] = response.url\n",
    "        item['title'] = response.meta['link_text']\n",
    "        # extracting basic body\n",
    "        item['body'] = '\\n'.join(response.xpath('//text()').extract())\n",
    "        # or better just save whole source\n",
    "        item['source'] = response.body\n",
    "        return item"
   ]
  },
  {
   "cell_type": "code",
   "execution_count": 306,
   "metadata": {},
   "outputs": [
    {
     "name": "stderr",
     "output_type": "stream",
     "text": [
      "2020-03-05 17:04:06 [scrapy.utils.log] INFO: Scrapy 1.6.0 started (bot: scrapybot)\n",
      "2020-03-05 17:04:06 [scrapy.utils.log] INFO: Versions: lxml 4.5.0.0, libxml2 2.9.9, cssselect 1.1.0, parsel 1.5.2, w3lib 1.21.0, Twisted 19.10.0, Python 3.7.6 (default, Jan  8 2020, 20:23:39) [MSC v.1916 64 bit (AMD64)], pyOpenSSL 19.1.0 (OpenSSL 1.1.1d  10 Sep 2019), cryptography 2.8, Platform Windows-10-10.0.17763-SP0\n"
     ]
    }
   ],
   "source": [
    "process = CrawlerProcess(settings={\n",
    "    'FEED_FORMAT': 'json',\n",
    "    'FEED_URI': 'items.json'\n",
    "})"
   ]
  },
  {
   "cell_type": "code",
   "execution_count": 308,
   "metadata": {},
   "outputs": [
    {
     "name": "stderr",
     "output_type": "stream",
     "text": [
      "2020-03-05 17:07:06 [scrapy.crawler] INFO: Overridden settings: {'FEED_FORMAT': 'json', 'FEED_URI': 'items.json'}\n",
      "2020-03-05 17:07:06 [scrapy.extensions.telnet] INFO: Telnet Password: 170cafef0691ea14\n",
      "2020-03-05 17:07:06 [scrapy.middleware] INFO: Enabled extensions:\n",
      "['scrapy.extensions.corestats.CoreStats',\n",
      " 'scrapy.extensions.telnet.TelnetConsole',\n",
      " 'scrapy.extensions.feedexport.FeedExporter',\n",
      " 'scrapy.extensions.logstats.LogStats']\n",
      "2020-03-05 17:07:06 [scrapy.middleware] INFO: Enabled downloader middlewares:\n",
      "['scrapy.downloadermiddlewares.httpauth.HttpAuthMiddleware',\n",
      " 'scrapy.downloadermiddlewares.downloadtimeout.DownloadTimeoutMiddleware',\n",
      " 'scrapy.downloadermiddlewares.defaultheaders.DefaultHeadersMiddleware',\n",
      " 'scrapy.downloadermiddlewares.useragent.UserAgentMiddleware',\n",
      " 'scrapy.downloadermiddlewares.retry.RetryMiddleware',\n",
      " 'scrapy.downloadermiddlewares.redirect.MetaRefreshMiddleware',\n",
      " 'scrapy.downloadermiddlewares.httpcompression.HttpCompressionMiddleware',\n",
      " 'scrapy.downloadermiddlewares.redirect.RedirectMiddleware',\n",
      " 'scrapy.downloadermiddlewares.cookies.CookiesMiddleware',\n",
      " 'scrapy.downloadermiddlewares.httpproxy.HttpProxyMiddleware',\n",
      " 'scrapy.downloadermiddlewares.stats.DownloaderStats']\n",
      "2020-03-05 17:07:06 [scrapy.middleware] INFO: Enabled spider middlewares:\n",
      "['scrapy.spidermiddlewares.httperror.HttpErrorMiddleware',\n",
      " 'scrapy.spidermiddlewares.offsite.OffsiteMiddleware',\n",
      " 'scrapy.spidermiddlewares.referer.RefererMiddleware',\n",
      " 'scrapy.spidermiddlewares.urllength.UrlLengthMiddleware',\n",
      " 'scrapy.spidermiddlewares.depth.DepthMiddleware']\n",
      "2020-03-05 17:07:06 [scrapy.middleware] INFO: Enabled item pipelines:\n",
      "[]\n",
      "2020-03-05 17:07:06 [scrapy.core.engine] INFO: Spider opened\n",
      "2020-03-05 17:07:06 [scrapy.extensions.logstats] INFO: Crawled 0 pages (at 0 pages/min), scraped 0 items (at 0 items/min)\n",
      "2020-03-05 17:07:06 [scrapy.extensions.telnet] INFO: Telnet console listening on 127.0.0.1:6024\n",
      "2020-03-05 17:07:06 [scrapy.core.engine] INFO: Closing spider (finished)\n",
      "2020-03-05 17:07:06 [scrapy.statscollectors] INFO: Dumping Scrapy stats:\n",
      "{'finish_reason': 'finished',\n",
      " 'finish_time': datetime.datetime(2020, 3, 5, 22, 7, 6, 934103),\n",
      " 'log_count/INFO': 18,\n",
      " 'start_time': datetime.datetime(2020, 3, 5, 22, 4, 8, 29801)}\n",
      "2020-03-05 17:07:06 [scrapy.core.engine] INFO: Spider closed (finished)\n",
      "2020-03-05 17:07:06 [scrapy.core.engine] INFO: Closing spider (finished)\n",
      "2020-03-05 17:07:06 [scrapy.statscollectors] INFO: Dumping Scrapy stats:\n",
      "{'finish_reason': 'finished',\n",
      " 'finish_time': datetime.datetime(2020, 3, 5, 22, 7, 6, 938102),\n",
      " 'log_count/INFO': 12,\n",
      " 'start_time': datetime.datetime(2020, 3, 5, 22, 7, 6, 911117)}\n",
      "2020-03-05 17:07:06 [scrapy.core.engine] INFO: Spider closed (finished)\n"
     ]
    }
   ],
   "source": [
    "process.crawl(MySpider)\n",
    "process.start() "
   ]
  },
  {
   "cell_type": "code",
   "execution_count": 273,
   "metadata": {},
   "outputs": [
    {
     "data": {
      "text/plain": [
       "{'Date': 'Thu, 05 Mar 2020 16:28:59 GMT', 'Server': 'Apache', 'Vary': 'Accept-Encoding,Cookie', 'Last-Modified': 'Thu, 05 Mar 2020 16:09:01 GMT', 'ETag': '\"3e9f-5a01dc153f1d6\"', 'Accept-Ranges': 'bytes', 'Content-Length': '16031', 'Cache-Control': 'max-age=2401, public', 'Expires': 'Thu, 05 Mar 2020 17:09:01 GMT', 'Referrer-Policy': '', 'Pragma': 'public', 'Keep-Alive': 'timeout=5, max=100', 'Connection': 'Keep-Alive', 'Content-Type': 'text/html; charset=UTF-8', 'Content-Encoding': 'gzip'}"
      ]
     },
     "execution_count": 273,
     "metadata": {},
     "output_type": "execute_result"
    }
   ],
   "source": [
    "content.u"
   ]
  },
  {
   "cell_type": "code",
   "execution_count": 294,
   "metadata": {},
   "outputs": [
    {
     "data": {
      "text/plain": [
       "'http://www.canyoncreekfood.com/'"
      ]
     },
     "execution_count": 294,
     "metadata": {},
     "output_type": "execute_result"
    }
   ],
   "source": [
    "url"
   ]
  },
  {
   "cell_type": "code",
   "execution_count": null,
   "metadata": {},
   "outputs": [],
   "source": []
  }
 ],
 "metadata": {
  "kernelspec": {
   "display_name": "Python 3",
   "language": "python",
   "name": "python3"
  },
  "language_info": {
   "codemirror_mode": {
    "name": "ipython",
    "version": 3
   },
   "file_extension": ".py",
   "mimetype": "text/x-python",
   "name": "python",
   "nbconvert_exporter": "python",
   "pygments_lexer": "ipython3",
   "version": "3.7.6"
  }
 },
 "nbformat": 4,
 "nbformat_minor": 4
}
