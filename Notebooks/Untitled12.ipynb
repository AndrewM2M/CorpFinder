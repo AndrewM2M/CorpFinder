{
 "cells": [
  {
   "cell_type": "code",
   "execution_count": 147,
   "metadata": {},
   "outputs": [],
   "source": [
    "import phonenumbers\n",
    "from bs4 import BeautifulSoup\n",
    "import requests\n",
    "import re\n",
    "from collections import namedtuple"
   ]
  },
  {
   "cell_type": "code",
   "execution_count": null,
   "metadata": {},
   "outputs": [],
   "source": [
    "url = \"http://www.canyoncreekfood.com/\""
   ]
  },
  {
   "cell_type": "code",
   "execution_count": null,
   "metadata": {},
   "outputs": [],
   "source": [
    "content = requests.get(url)"
   ]
  },
  {
   "cell_type": "code",
   "execution_count": null,
   "metadata": {},
   "outputs": [],
   "source": [
    "soup = BeautifulSoup(content.text, 'lxml')\n",
    "body_text = soup.body.text\n",
    "body_text"
   ]
  },
  {
   "cell_type": "code",
   "execution_count": null,
   "metadata": {},
   "outputs": [],
   "source": [
    "numbers = phonenumbers.PhoneNumberMatcher(body_text, \"US\")\n",
    "numbers"
   ]
  },
  {
   "cell_type": "code",
   "execution_count": null,
   "metadata": {},
   "outputs": [],
   "source": [
    "numbers_to_keep = []"
   ]
  },
  {
   "cell_type": "code",
   "execution_count": 208,
   "metadata": {},
   "outputs": [
    {
     "data": {
      "text/plain": [
       "['1(888)217-1246', '1(780)463-5511']"
      ]
     },
     "execution_count": 208,
     "metadata": {},
     "output_type": "execute_result"
    }
   ],
   "source": [
    "for find in numbers:\n",
    "    if phonenumbers.is_possible_number(find.number) and phonenumbers.is_valid_number(find.number):\n",
    "        numbers_to_keep.append(find.raw_string)\n",
    "numbers_to_keep"
   ]
  },
  {
   "cell_type": "code",
   "execution_count": 209,
   "metadata": {},
   "outputs": [],
   "source": [
    "numbers_to_keep\n",
    "MATCH_ALL = r'.*'\n",
    "\n",
    "\n",
    "def like(string, flags=re.DOTALL):\n",
    "    \"\"\"\n",
    "    Return a compiled regular expression that matches the given\n",
    "    string with any prefix and postfix, e.g. if string = \"hello\",\n",
    "    the returned regex matches r\".*hello.*\"\n",
    "    \"\"\"\n",
    "    if isinstance(string, list):\n",
    "        string_ = \"|\".join(map(re.escape, string))\n",
    "    else:\n",
    "        string_ = re.escape(string)\n",
    "    if not isinstance(string_, str):\n",
    "        string_ = str(string_)\n",
    "    regex = MATCH_ALL + string_ + MATCH_ALL\n",
    "    return re.compile(regex, flags=flags)"
   ]
  },
  {
   "cell_type": "code",
   "execution_count": 221,
   "metadata": {},
   "outputs": [],
   "source": [
    "def b4_after(string, target):\n",
    "    sub_str = re.escape(target)\n",
    "    regex = re.compile(r\"(?P<before>\\S+\\s)?\\S*\"+sub_str+\"S*(?P<after>\\s\\S+)?\", flags = re.MULTILINE | re.IGNORECASE )\n",
    "    return re.finditer(regex, string)"
   ]
  },
  {
   "cell_type": "code",
   "execution_count": 233,
   "metadata": {},
   "outputs": [],
   "source": [
    "keeper = namedtuple('keeper',['number', \"before_afters\", 'html', 'tag_text'])"
   ]
  },
  {
   "cell_type": "code",
   "execution_count": 250,
   "metadata": {},
   "outputs": [],
   "source": [
    "elements = set()\n",
    "for good_phone in numbers_to_keep:\n",
    "        looking_for = like(good_phone)\n",
    "        for elem in soup(text=looking_for):\n",
    "            matches = b4_after(elem.parent.text, good_phone)\n",
    "            ba = tuple(match.group() for match in matches)\n",
    "            elements.add(keeper(good_phone, ba, str(elem.parent), elem.parent.text))"
   ]
  },
  {
   "cell_type": "code",
   "execution_count": 251,
   "metadata": {},
   "outputs": [
    {
     "data": {
      "text/plain": [
       "{keeper(number='1(780)463-5511', before_afters=('FAX 1(780)463-5511 EMAIL',), html='<p><strong>LOCATION</strong><br/> 8704 53rd Ave, Edmonton, AB T6E5G2<br/> <strong>PHONE</strong><br/> 1(888)217-1246<br/> <strong>FAX</strong><br/> 1(780)463-5511<br/> <strong>EMAIL</strong><br/> customerfeedback@canyoncreekfood.com</p>', tag_text='LOCATION 8704 53rd Ave, Edmonton, AB T6E5G2 PHONE 1(888)217-1246 FAX 1(780)463-5511 EMAIL customerfeedback@canyoncreekfood.com'),\n",
       " keeper(number='1(888)217-1246', before_afters=('PHONE 1(888)217-1246 FAX',), html='<p><strong>LOCATION</strong><br/> 8704 53rd Ave, Edmonton, AB T6E5G2<br/> <strong>PHONE</strong><br/> 1(888)217-1246<br/> <strong>FAX</strong><br/> 1(780)463-5511<br/> <strong>EMAIL</strong><br/> customerfeedback@canyoncreekfood.com</p>', tag_text='LOCATION 8704 53rd Ave, Edmonton, AB T6E5G2 PHONE 1(888)217-1246 FAX 1(780)463-5511 EMAIL customerfeedback@canyoncreekfood.com')}"
      ]
     },
     "execution_count": 251,
     "metadata": {},
     "output_type": "execute_result"
    }
   ],
   "source": [
    "elements"
   ]
  },
  {
   "cell_type": "code",
   "execution_count": 252,
   "metadata": {},
   "outputs": [
    {
     "data": {
      "text/plain": [
       "keeper(number=12341241, before_afters=['word', 'stuff'], html='<p>', tag_text='text')"
      ]
     },
     "execution_count": 252,
     "metadata": {},
     "output_type": "execute_result"
    }
   ],
   "source": [
    "keeper(12341241, [\"word\",\"stuff\"], \"<p>\", \"text\")"
   ]
  },
  {
   "cell_type": "code",
   "execution_count": 253,
   "metadata": {},
   "outputs": [],
   "source": [
    "import pandas as pd"
   ]
  },
  {
   "cell_type": "code",
   "execution_count": 254,
   "metadata": {},
   "outputs": [],
   "source": [
    "number_table = pd.DataFrame(elements)"
   ]
  },
  {
   "cell_type": "code",
   "execution_count": 256,
   "metadata": {},
   "outputs": [
    {
     "data": {
      "text/plain": [
       "0    LOCATION 8704 53rd Ave, Edmonton, AB T6E5G2 PH...\n",
       "1    LOCATION 8704 53rd Ave, Edmonton, AB T6E5G2 PH...\n",
       "Name: tag_text, dtype: object"
      ]
     },
     "execution_count": 256,
     "metadata": {},
     "output_type": "execute_result"
    }
   ],
   "source": [
    "number_table['tag_text']"
   ]
  },
  {
   "cell_type": "code",
   "execution_count": null,
   "metadata": {},
   "outputs": [],
   "source": []
  }
 ],
 "metadata": {
  "kernelspec": {
   "display_name": "Python 3",
   "language": "python",
   "name": "python3"
  },
  "language_info": {
   "codemirror_mode": {
    "name": "ipython",
    "version": 3
   },
   "file_extension": ".py",
   "mimetype": "text/x-python",
   "name": "python",
   "nbconvert_exporter": "python",
   "pygments_lexer": "ipython3",
   "version": "3.7.6"
  }
 },
 "nbformat": 4,
 "nbformat_minor": 4
}
